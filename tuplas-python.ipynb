{
  "nbformat": 4,
  "nbformat_minor": 0,
  "metadata": {
    "colab": {
      "name": "exercicios-tuplas_Amanda-Salinas.ipynb",
      "provenance": [],
      "authorship_tag": "ABX9TyP8NrdbW1+UY05hNIjcrrWA"
    },
    "kernelspec": {
      "name": "python3",
      "display_name": "Python 3"
    },
    "language_info": {
      "name": "python"
    }
  },
  "cells": [
    {
      "cell_type": "markdown",
      "source": [
        "# Exercícios práticos - Variáveis - Tuplas\n",
        "Construa um tupla contendo os seguintes aminoácidos: **A, C, D, E, F, G, H, I, K, L, M, N, P, Q, R, S, T, V, W, Y** <br>\n",
        "Realize as seguintes tarefas através de códigos em Python: \n",
        "\n",
        "\n",
        "*   Conte e imprima o número de elementos contidos na tupla criada. \n",
        "*   Verifique e imprima se o aminoácido Serina (S) pertence à tupla.\n",
        "*   Crie uma segunda tupla contendo os elementos Prolina (P), Glicina (G), Asparagina (N), Tirosina (Y), Valina (V) e Triptofano (W). \n",
        "*   Some as tuplas construídas e imprima o resultado.\n",
        "*   Conte a ocorrência dos elementos Glicina (G), Asparagina (N) e Cisteína (C).\n",
        "*   Retorne a posição do primeiro elemento Asparagina (N).\n",
        "*   Retorne os 5 últimos elementos da tupla.\n",
        "\n"
      ],
      "metadata": {
        "id": "gU7cZmdCMQVf"
      }
    },
    {
      "cell_type": "code",
      "source": [
        "# a) Conte e imprima o número de elementos contidos na tupla criada\n",
        "aminoacidos = ('A', 'C', 'D', 'E', 'F', 'G', 'H', 'I', 'K', 'L', 'M', 'N', 'P', 'Q', 'R', 'S', 'T', 'V', 'W', 'Y')\n",
        "print(aminoacidos)\n",
        "len(aminoacidos)"
      ],
      "metadata": {
        "colab": {
          "base_uri": "https://localhost:8080/"
        },
        "id": "ptBSUDVoMzwE",
        "outputId": "9a0865bd-8344-4dd2-8eb6-7ef3d1e5673f"
      },
      "execution_count": null,
      "outputs": [
        {
          "output_type": "stream",
          "name": "stdout",
          "text": [
            "('A', 'C', 'D', 'E', 'F', 'G', 'H', 'I', 'K', 'L', 'M', 'N', 'P', 'Q', 'R', 'S', 'T', 'V', 'W', 'Y')\n"
          ]
        },
        {
          "output_type": "execute_result",
          "data": {
            "text/plain": [
              "20"
            ]
          },
          "metadata": {},
          "execution_count": 3
        }
      ]
    },
    {
      "cell_type": "code",
      "source": [
        "# b) Verifique e imprima se o aminoácido Serina (S) pertence à tupla\n",
        "'S' in aminoacidos"
      ],
      "metadata": {
        "colab": {
          "base_uri": "https://localhost:8080/"
        },
        "id": "2ftfm1TgNWYw",
        "outputId": "79c9f9b7-dbbe-4698-9a45-df1e96d28ccf"
      },
      "execution_count": null,
      "outputs": [
        {
          "output_type": "execute_result",
          "data": {
            "text/plain": [
              "True"
            ]
          },
          "metadata": {},
          "execution_count": 5
        }
      ]
    },
    {
      "cell_type": "code",
      "source": [
        "# c) Crie uma segunda tupla contendo os elementos Prolina (P), Glicina (G), Asparagina (N), Tirosina (Y), Valina (V) e Triptofano (W)\n",
        "aminoacidos2 = ('P', 'G', 'N', 'Y', 'V', 'W')\n",
        "print(aminoacidos2)"
      ],
      "metadata": {
        "colab": {
          "base_uri": "https://localhost:8080/"
        },
        "id": "f7HMwDD2NgsT",
        "outputId": "293d69ac-fcf7-45cb-ac3f-a031810cd5e1"
      },
      "execution_count": null,
      "outputs": [
        {
          "output_type": "stream",
          "name": "stdout",
          "text": [
            "('P', 'G', 'N', 'Y', 'V', 'W')\n"
          ]
        }
      ]
    },
    {
      "cell_type": "code",
      "source": [
        "# d) Some as tuplas construídas e imprima o resultado\n",
        "print(aminoacidos + aminoacidos2)"
      ],
      "metadata": {
        "colab": {
          "base_uri": "https://localhost:8080/"
        },
        "id": "VZL1I2eqN170",
        "outputId": "f2d48df3-b061-4a12-97f9-f28eee863122"
      },
      "execution_count": null,
      "outputs": [
        {
          "output_type": "stream",
          "name": "stdout",
          "text": [
            "('A', 'C', 'D', 'E', 'F', 'G', 'H', 'I', 'K', 'L', 'M', 'N', 'P', 'Q', 'R', 'S', 'T', 'V', 'W', 'Y', 'P', 'G', 'N', 'Y', 'V', 'W')\n"
          ]
        }
      ]
    },
    {
      "cell_type": "code",
      "source": [
        "# e) Conte a ocorrência dos elementos Glicina (G), Asparagina (N) e Cisteína (C)\n",
        "print(aminoacidos.count('G'))\n",
        "print(aminoacidos.count('N'))\n",
        "print(aminoacidos.count('C'))"
      ],
      "metadata": {
        "colab": {
          "base_uri": "https://localhost:8080/"
        },
        "id": "f_QIHh-GN3Rz",
        "outputId": "29ada6dd-26a1-40d5-babf-2b3f7e1db3ed"
      },
      "execution_count": null,
      "outputs": [
        {
          "output_type": "stream",
          "name": "stdout",
          "text": [
            "1\n",
            "1\n",
            "1\n"
          ]
        }
      ]
    },
    {
      "cell_type": "code",
      "source": [
        "# f) Retorne a posição do primeiro elemento Asparagina (N)\n",
        "aminoacidos.index('N')"
      ],
      "metadata": {
        "colab": {
          "base_uri": "https://localhost:8080/"
        },
        "id": "Fe6nV1TMO7p7",
        "outputId": "26722d2d-2cae-427a-cc40-b073096c47a9"
      },
      "execution_count": null,
      "outputs": [
        {
          "output_type": "execute_result",
          "data": {
            "text/plain": [
              "11"
            ]
          },
          "metadata": {},
          "execution_count": 22
        }
      ]
    },
    {
      "cell_type": "code",
      "source": [
        "# e) Retorne os 5 últimos elementos da tupla\n",
        "aminoacidos[-5:]"
      ],
      "metadata": {
        "colab": {
          "base_uri": "https://localhost:8080/"
        },
        "id": "EN0MKfXxPWal",
        "outputId": "1ca8a191-78e3-4c14-989c-54f9c594a9ba"
      },
      "execution_count": null,
      "outputs": [
        {
          "output_type": "execute_result",
          "data": {
            "text/plain": [
              "('S', 'T', 'V', 'W', 'Y')"
            ]
          },
          "metadata": {},
          "execution_count": 25
        }
      ]
    }
  ]
}